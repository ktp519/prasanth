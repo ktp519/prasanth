{
 "cells": [
  {
   "cell_type": "code",
   "execution_count": null,
   "metadata": {},
   "outputs": [],
   "source": [
    "#Guessing the number\n",
    "import random\n",
    "\n",
    "games = ''\n",
    "\n",
    "while games == '':\n",
    "    try:\n",
    "        games = int(input(\"How many games would you like to play?\"))\n",
    "    except:\n",
    "        print(\"please select using a number\")\n",
    "        \n",
    "for game in range(0,games):\n",
    "    pick = random.randint(1,26)\n",
    "    guess = None\n",
    "    attempts = 0\n",
    "    \n",
    "    while pick!=guess:\n",
    "        try:\n",
    "            guess = int(input(\"pick a number:\"))\n",
    "        except:\n",
    "            print(\"Please select a number.\")\n",
    "            continue\n",
    "            \n",
    "    if guess!=pick:\n",
    "        attempts += 1\n",
    "        if guess > pick:\n",
    "            print(\"Too high\")\n",
    "        else:\n",
    "            print(\"Too low\")\n",
    "    else:\n",
    "        print(\"Correct: It took you this guesses: %s\" % attempts)\n",
    "    \n",
    "    \n",
    "            \n",
    "\n",
    "\n",
    "\n",
    "\n",
    "\n"
   ]
  },
  {
   "cell_type": "code",
   "execution_count": null,
   "metadata": {},
   "outputs": [],
   "source": []
  }
 ],
 "metadata": {
  "kernelspec": {
   "display_name": "Python 3",
   "language": "python",
   "name": "python3"
  },
  "language_info": {
   "codemirror_mode": {
    "name": "ipython",
    "version": 3
   },
   "file_extension": ".py",
   "mimetype": "text/x-python",
   "name": "python",
   "nbconvert_exporter": "python",
   "pygments_lexer": "ipython3",
   "version": "3.7.3"
  }
 },
 "nbformat": 4,
 "nbformat_minor": 2
}
